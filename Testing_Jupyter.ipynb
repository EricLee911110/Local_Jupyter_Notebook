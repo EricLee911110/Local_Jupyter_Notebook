{
 "cells": [
  {
   "cell_type": "code",
   "execution_count": null,
   "id": "3141af88",
   "metadata": {},
   "outputs": [],
   "source": [
    "    this is the first line of code inlind with text\n"
   ]
  },
  {
   "cell_type": "markdown",
   "id": "4a118372",
   "metadata": {},
   "source": [
    "    this is a line of code inline with text\n",
    "LOL what was that singing"
   ]
  },
  {
   "cell_type": "code",
   "execution_count": 1,
   "id": "a3dc3ed9",
   "metadata": {},
   "outputs": [
    {
     "ename": "SyntaxError",
     "evalue": "invalid syntax (3336871262.py, line 1)",
     "output_type": "error",
     "traceback": [
      "\u001b[0;36m  Input \u001b[0;32mIn [1]\u001b[0;36m\u001b[0m\n\u001b[0;31m    ````\u001b[0m\n\u001b[0m    ^\u001b[0m\n\u001b[0;31mSyntaxError\u001b[0m\u001b[0;31m:\u001b[0m invalid syntax\n"
     ]
    }
   ],
   "source": [
    "````\n",
    "print('hello')\n",
    "````"
   ]
  },
  {
   "cell_type": "markdown",
   "id": "bbecf04f",
   "metadata": {},
   "source": [
    "markdowwwwn\n"
   ]
  },
  {
   "cell_type": "markdown",
   "id": "63c4263d",
   "metadata": {},
   "source": [
    "````\n",
    "code block\n",
    "````"
   ]
  },
  {
   "cell_type": "code",
   "execution_count": 11,
   "id": "db604e87",
   "metadata": {},
   "outputs": [
    {
     "name": "stdout",
     "output_type": "stream",
     "text": [
      "[[1]\n",
      " [0]\n",
      " [1]]\n"
     ]
    }
   ],
   "source": [
    "import numpy as np\n",
    "a = np.array([1,0,1])[:,None]\n",
    "c = 3\n",
    "print(a)"
   ]
  },
  {
   "cell_type": "code",
   "execution_count": 83,
   "id": "da5d5ce5",
   "metadata": {},
   "outputs": [
    {
     "name": "stdout",
     "output_type": "stream",
     "text": [
      "Counter({'the': 2, 'dog': 1, 'jumps': 1, 'over': 1, 'roof': 1})\n",
      "5\n",
      "0 2\n",
      "1 1\n",
      "2 1\n",
      "3 1\n",
      "4 1\n"
     ]
    }
   ],
   "source": [
    "from collections import Counter\n",
    "\n",
    "a = \"The Dog jumps over the roof\".lower()\n",
    "b = \"The cat jumps on the roof\".lower()\n",
    "\n",
    "vocab = Counter()\n",
    "for word in a.split(' '):\n",
    "    vocab[word] += 1\n",
    "    \n",
    "print(vocab)\n",
    "print(len(vocab))\n",
    "\n",
    "for i,word in enumerate(vocab):\n",
    "    print(i,vocab[word])"
   ]
  },
  {
   "cell_type": "code",
   "execution_count": 76,
   "id": "3962cade",
   "metadata": {},
   "outputs": [
    {
     "name": "stdout",
     "output_type": "stream",
     "text": [
      "{'Hello', 'hello', 'ehllo'}\n",
      "0 Hello\n",
      "1 hello\n",
      "2 ehllo\n",
      "['Hello', 'hello', 'ehllo']\n",
      "0 Hello\n",
      "1 hello\n",
      "2 ehllo\n"
     ]
    }
   ],
   "source": [
    "vocab = set()\n",
    "vocab.add(\"ehllo\")\n",
    "vocab.add('ehllo')\n",
    "vocab.add(\"Hello\")\n",
    "vocab.add(\"hello\")\n",
    "print(vocab)\n",
    "for i,word in enumerate(vocab):\n",
    "    print(i, word)\n",
    "vocab_list = list(vocab)\n",
    "print(vocab_list)\n",
    "for i,word in enumerate(vocab_list):\n",
    "    print(i, word)"
   ]
  },
  {
   "cell_type": "code",
   "execution_count": 79,
   "id": "4029ae5f",
   "metadata": {},
   "outputs": [
    {
     "name": "stdout",
     "output_type": "stream",
     "text": [
      "[[0.]\n",
      " [0.]\n",
      " [0.]\n",
      " [0.]]\n"
     ]
    }
   ],
   "source": [
    "init_weights = np.zeros([4,1])\n",
    "print(init_weights)\n"
   ]
  },
  {
   "cell_type": "code",
   "execution_count": 100,
   "id": "af818fb7",
   "metadata": {},
   "outputs": [
    {
     "name": "stdout",
     "output_type": "stream",
     "text": [
      "Done! Your age is:  19\n"
     ]
    }
   ],
   "source": [
    "class Student:\n",
    "    def __init__(self,age,name,update_age):\n",
    "        self.age = age\n",
    "        self.name = name\n",
    "        self.update_age(update_age)\n",
    "    def update_age(self, age):\n",
    "        self.age = age\n",
    "        print('Done! Your age is: ', self.age)\n",
    "student1 = Student(18, 'eric', 19)"
   ]
  },
  {
   "cell_type": "code",
   "execution_count": 87,
   "id": "aca887ed",
   "metadata": {},
   "outputs": [
    {
     "ename": "AssertionError",
     "evalue": "",
     "output_type": "error",
     "traceback": [
      "\u001b[0;31m---------------------------------------------------------------------------\u001b[0m",
      "\u001b[0;31mAssertionError\u001b[0m                            Traceback (most recent call last)",
      "Input \u001b[0;32mIn [87]\u001b[0m, in \u001b[0;36m<cell line: 1>\u001b[0;34m()\u001b[0m\n\u001b[0;32m----> 1\u001b[0m \u001b[38;5;28;01massert\u001b[39;00m(\u001b[38;5;241m2\u001b[39m\u001b[38;5;241m==\u001b[39m\u001b[38;5;241m1\u001b[39m)\n",
      "\u001b[0;31mAssertionError\u001b[0m: "
     ]
    }
   ],
   "source": [
    "assert(2==1)"
   ]
  },
  {
   "cell_type": "code",
   "execution_count": 150,
   "id": "3df2b5bc",
   "metadata": {},
   "outputs": [
    {
     "name": "stdout",
     "output_type": "stream",
     "text": [
      "[[ 4  8 12]\n",
      " [ 5 10 15]\n",
      " [ 6 12 18]]\n"
     ]
    }
   ],
   "source": [
    "import numpy as np\n",
    "\n",
    "a = np.array([[1,2,3]])\n",
    "b = np.array([[4],\n",
    "              [5],\n",
    "              [6]])\n",
    "c = 10\n",
    "print(b.dot(a))"
   ]
  },
  {
   "cell_type": "code",
   "execution_count": 123,
   "id": "da84be78",
   "metadata": {},
   "outputs": [
    {
     "name": "stdout",
     "output_type": "stream",
     "text": [
      "[[7.70701954 3.82001083]\n",
      " [2.41216406 2.20468505]]\n",
      "[[0. 0.]\n",
      " [0. 0.]]\n"
     ]
    }
   ],
   "source": [
    "a = np.random.rand(2,2)\n",
    "b = np.zeros((2,2))\n",
    "print(a.dot(10))\n",
    "print(b)"
   ]
  },
  {
   "cell_type": "code",
   "execution_count": 135,
   "id": "097abba4",
   "metadata": {},
   "outputs": [
    {
     "name": "stdout",
     "output_type": "stream",
     "text": [
      "something\n"
     ]
    }
   ],
   "source": [
    "a = \"Cute dog\"\n",
    "if (\"dog\" in a.split(' ')):\n",
    "    print(\"something\")"
   ]
  },
  {
   "cell_type": "code",
   "execution_count": 147,
   "id": "665fc12c",
   "metadata": {},
   "outputs": [
    {
     "name": "stdout",
     "output_type": "stream",
     "text": [
      "[[0. 0. 0. 0. 0. 0. 0. 0. 0. 0.]]\n",
      "10\n",
      "[1 2 3 4]\n",
      "4\n"
     ]
    },
    {
     "ename": "IndexError",
     "evalue": "index 8 is out of bounds for axis 0 with size 1",
     "output_type": "error",
     "traceback": [
      "\u001b[0;31m---------------------------------------------------------------------------\u001b[0m",
      "\u001b[0;31mIndexError\u001b[0m                                Traceback (most recent call last)",
      "Input \u001b[0;32mIn [147]\u001b[0m, in \u001b[0;36m<cell line: 8>\u001b[0;34m()\u001b[0m\n\u001b[1;32m      5\u001b[0m \u001b[38;5;28mprint\u001b[39m(a)\n\u001b[1;32m      6\u001b[0m \u001b[38;5;28mprint\u001b[39m(a\u001b[38;5;241m.\u001b[39msize)\n\u001b[0;32m----> 8\u001b[0m zeros[\u001b[38;5;241m8\u001b[39m] \u001b[38;5;241m+\u001b[39m\u001b[38;5;241m=\u001b[39m \u001b[38;5;241m1\u001b[39m\n",
      "\u001b[0;31mIndexError\u001b[0m: index 8 is out of bounds for axis 0 with size 1"
     ]
    }
   ],
   "source": [
    "zeros = np.zeros((1,10))\n",
    "print(zeros)\n",
    "print(zeros.size)\n",
    "a = np.array([1,2,3,4])\n",
    "print(a)\n",
    "print(a.size)\n",
    "\n",
    "zeros[8] += 1"
   ]
  },
  {
   "cell_type": "code",
   "execution_count": 155,
   "id": "f34644f0",
   "metadata": {},
   "outputs": [
    {
     "name": "stdout",
     "output_type": "stream",
     "text": [
      "[1 2 3 4 5 6 7]\n",
      "[8 9]\n",
      "True\n"
     ]
    }
   ],
   "source": [
    "a = np.array([1,2,3,4,5,6,7,8,9])\n",
    "print(a[:-2])\n",
    "print(a[-2:])\n",
    "print('POSITIVE' == \"POSITIVE\")"
   ]
  },
  {
   "cell_type": "code",
   "execution_count": 156,
   "id": "72c03a6e",
   "metadata": {},
   "outputs": [
    {
     "ename": "IndexError",
     "evalue": "list assignment index out of range",
     "output_type": "error",
     "traceback": [
      "\u001b[0;31m---------------------------------------------------------------------------\u001b[0m",
      "\u001b[0;31mIndexError\u001b[0m                                Traceback (most recent call last)",
      "Input \u001b[0;32mIn [156]\u001b[0m, in \u001b[0;36m<cell line: 2>\u001b[0;34m()\u001b[0m\n\u001b[1;32m      1\u001b[0m a \u001b[38;5;241m=\u001b[39m [\u001b[38;5;241m1\u001b[39m]\n\u001b[0;32m----> 2\u001b[0m a[\u001b[38;5;241m9\u001b[39m] \u001b[38;5;241m=\u001b[39m \u001b[38;5;241m10\u001b[39m\n\u001b[1;32m      3\u001b[0m \u001b[38;5;28mprint\u001b[39m(a)\n",
      "\u001b[0;31mIndexError\u001b[0m: list assignment index out of range"
     ]
    }
   ],
   "source": [
    "a = [1]\n",
    "a[9] = 10\n",
    "print(a)"
   ]
  },
  {
   "cell_type": "code",
   "execution_count": 157,
   "id": "9e19dd38",
   "metadata": {},
   "outputs": [
    {
     "name": "stdout",
     "output_type": "stream",
     "text": [
      "0 german\n",
      "1 shepherd\n",
      "2 is\n",
      "3 the\n",
      "4 cutest\n"
     ]
    }
   ],
   "source": [
    "a = \"german shepherd is the cutest\"\n",
    "for i,word in enumerate(a.split(' ')):\n",
    "    print(i,word)"
   ]
  },
  {
   "cell_type": "code",
   "execution_count": 176,
   "id": "da5e3312",
   "metadata": {},
   "outputs": [
    {
     "name": "stdout",
     "output_type": "stream",
     "text": [
      "[[0.62735674 0.16241743 0.93646118]\n",
      " [0.11457933 0.6599085  0.98629201]\n",
      " [0.40312145 0.04266417 0.97324247]]\n",
      "[0.11457933 0.6599085  0.98629201]\n",
      "[0.11457933 0.6599085  0.98629201]\n"
     ]
    }
   ],
   "source": [
    "a = np.random.rand(3,3)\n",
    "print(a)\n",
    "print(a[1][:])\n",
    "print(a[1])"
   ]
  },
  {
   "cell_type": "code",
   "execution_count": 172,
   "id": "7d180d59",
   "metadata": {},
   "outputs": [
    {
     "name": "stdout",
     "output_type": "stream",
     "text": [
      "[[0. 0.]]\n",
      "[[ 4. 10.]]\n",
      "4.0\n",
      "10.0\n"
     ]
    }
   ],
   "source": [
    "indices = np.zeros((1, 2))\n",
    "print(indices)\n",
    "indices[0][0] = 4\n",
    "indices[0][1] = 10\n",
    "print(indices)\n",
    "\n",
    "for index in indices[0]:\n",
    "    print(index)"
   ]
  },
  {
   "cell_type": "code",
   "execution_count": 177,
   "id": "976914ec",
   "metadata": {},
   "outputs": [
    {
     "name": "stdout",
     "output_type": "stream",
     "text": [
      "0 I\n",
      "<class 'int'>\n",
      "1 like\n",
      "<class 'int'>\n",
      "2 dogs\n",
      "<class 'int'>\n",
      "3 and\n",
      "<class 'int'>\n",
      "4 cats\n",
      "<class 'int'>\n"
     ]
    }
   ],
   "source": [
    "a = \"I like dogs and cats\"\n",
    "for i,word in enumerate(a.split(' ')):\n",
    "    print(i, word)\n",
    "    print(type(i))\n",
    "    \n",
    "    "
   ]
  },
  {
   "cell_type": "code",
   "execution_count": 183,
   "id": "e76fe575",
   "metadata": {},
   "outputs": [
    {
     "name": "stdout",
     "output_type": "stream",
     "text": [
      "{1, 2, 3}\n",
      "[1, 2, 3]\n",
      "<class 'int'>\n"
     ]
    }
   ],
   "source": [
    "a = set([1,2,3])\n",
    "print(a)\n",
    "b = list(a)\n",
    "print(b)\n",
    "print(type(b[1]))"
   ]
  },
  {
   "cell_type": "code",
   "execution_count": null,
   "id": "f6fa89a1",
   "metadata": {},
   "outputs": [],
   "source": []
  },
  {
   "cell_type": "code",
   "execution_count": 187,
   "id": "9012b4d1",
   "metadata": {},
   "outputs": [
    {
     "name": "stdout",
     "output_type": "stream",
     "text": [
      "[[2 4 6]]\n",
      "[[2 4 6]]\n"
     ]
    }
   ],
   "source": [
    "a = np.array([[1,2,3]])\n",
    "b = np.array(2)\n",
    "print(a.dot(b))\n",
    "print(b.dot(a))"
   ]
  }
 ],
 "metadata": {
  "kernelspec": {
   "display_name": "Python 3 (ipykernel)",
   "language": "python",
   "name": "python3"
  },
  "language_info": {
   "codemirror_mode": {
    "name": "ipython",
    "version": 3
   },
   "file_extension": ".py",
   "mimetype": "text/x-python",
   "name": "python",
   "nbconvert_exporter": "python",
   "pygments_lexer": "ipython3",
   "version": "3.9.12"
  }
 },
 "nbformat": 4,
 "nbformat_minor": 5
}
