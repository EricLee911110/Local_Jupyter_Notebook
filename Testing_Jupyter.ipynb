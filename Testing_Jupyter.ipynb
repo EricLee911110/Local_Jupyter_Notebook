{
 "cells": [
  {
   "cell_type": "code",
   "execution_count": null,
   "id": "3141af88",
   "metadata": {},
   "outputs": [],
   "source": [
    "    this is the first line of code inlind with text\n"
   ]
  },
  {
   "cell_type": "markdown",
   "id": "4a118372",
   "metadata": {},
   "source": [
    "    this is a line of code inline with text\n",
    "LOL what was that singing"
   ]
  },
  {
   "cell_type": "code",
   "execution_count": 1,
   "id": "a3dc3ed9",
   "metadata": {},
   "outputs": [
    {
     "ename": "SyntaxError",
     "evalue": "invalid syntax (3336871262.py, line 1)",
     "output_type": "error",
     "traceback": [
      "\u001b[0;36m  Input \u001b[0;32mIn [1]\u001b[0;36m\u001b[0m\n\u001b[0;31m    ````\u001b[0m\n\u001b[0m    ^\u001b[0m\n\u001b[0;31mSyntaxError\u001b[0m\u001b[0;31m:\u001b[0m invalid syntax\n"
     ]
    }
   ],
   "source": [
    "````\n",
    "print('hello')\n",
    "````"
   ]
  },
  {
   "cell_type": "markdown",
   "id": "bbecf04f",
   "metadata": {},
   "source": [
    "markdowwwwn\n"
   ]
  },
  {
   "cell_type": "markdown",
   "id": "63c4263d",
   "metadata": {},
   "source": [
    "````\n",
    "code block\n",
    "````"
   ]
  },
  {
   "cell_type": "code",
   "execution_count": 11,
   "id": "db604e87",
   "metadata": {},
   "outputs": [
    {
     "name": "stdout",
     "output_type": "stream",
     "text": [
      "[[1]\n",
      " [0]\n",
      " [1]]\n"
     ]
    }
   ],
   "source": [
    "import numpy as np\n",
    "a = np.array([1,0,1])[:,None]\n",
    "c = 3\n",
    "print(a)"
   ]
  },
  {
   "cell_type": "code",
   "execution_count": 83,
   "id": "091baf6f",
   "metadata": {},
   "outputs": [
    {
     "name": "stdout",
     "output_type": "stream",
     "text": [
      "Counter({'the': 2, 'dog': 1, 'jumps': 1, 'over': 1, 'roof': 1})\n",
      "5\n",
      "0 2\n",
      "1 1\n",
      "2 1\n",
      "3 1\n",
      "4 1\n"
     ]
    }
   ],
   "source": [
    "from collections import Counter\n",
    "\n",
    "a = \"The Dog jumps over the roof\".lower()\n",
    "b = \"The cat jumps on the roof\".lower()\n",
    "\n",
    "vocab = Counter()\n",
    "for word in a.split(' '):\n",
    "    vocab[word] += 1\n",
    "    \n",
    "print(vocab)\n",
    "print(len(vocab))\n",
    "\n",
    "for i,word in enumerate(vocab):\n",
    "    print(i,vocab[word])"
   ]
  },
  {
   "cell_type": "code",
   "execution_count": 76,
   "id": "66603019",
   "metadata": {},
   "outputs": [
    {
     "name": "stdout",
     "output_type": "stream",
     "text": [
      "{'Hello', 'hello', 'ehllo'}\n",
      "0 Hello\n",
      "1 hello\n",
      "2 ehllo\n",
      "['Hello', 'hello', 'ehllo']\n",
      "0 Hello\n",
      "1 hello\n",
      "2 ehllo\n"
     ]
    }
   ],
   "source": [
    "vocab = set()\n",
    "vocab.add(\"ehllo\")\n",
    "vocab.add('ehllo')\n",
    "vocab.add(\"Hello\")\n",
    "vocab.add(\"hello\")\n",
    "print(vocab)\n",
    "for i,word in enumerate(vocab):\n",
    "    print(i, word)\n",
    "vocab_list = list(vocab)\n",
    "print(vocab_list)\n",
    "for i,word in enumerate(vocab_list):\n",
    "    print(i, word)"
   ]
  },
  {
   "cell_type": "code",
   "execution_count": 79,
   "id": "c963b14d",
   "metadata": {},
   "outputs": [
    {
     "name": "stdout",
     "output_type": "stream",
     "text": [
      "[[0.]\n",
      " [0.]\n",
      " [0.]\n",
      " [0.]]\n"
     ]
    }
   ],
   "source": [
    "init_weights = np.zeros([4,1])\n",
    "print(init_weights)\n"
   ]
  },
  {
   "cell_type": "code",
   "execution_count": 100,
   "id": "42a2db14",
   "metadata": {},
   "outputs": [
    {
     "name": "stdout",
     "output_type": "stream",
     "text": [
      "Done! Your age is:  19\n"
     ]
    }
   ],
   "source": [
    "class Student:\n",
    "    def __init__(self,age,name,update_age):\n",
    "        self.age = age\n",
    "        self.name = name\n",
    "        self.update_age(update_age)\n",
    "    def update_age(self, age):\n",
    "        self.age = age\n",
    "        print('Done! Your age is: ', self.age)\n",
    "student1 = Student(18, 'eric', 19)"
   ]
  },
  {
   "cell_type": "code",
   "execution_count": 87,
   "id": "e7ed8814",
   "metadata": {},
   "outputs": [
    {
     "ename": "AssertionError",
     "evalue": "",
     "output_type": "error",
     "traceback": [
      "\u001b[0;31m---------------------------------------------------------------------------\u001b[0m",
      "\u001b[0;31mAssertionError\u001b[0m                            Traceback (most recent call last)",
      "Input \u001b[0;32mIn [87]\u001b[0m, in \u001b[0;36m<cell line: 1>\u001b[0;34m()\u001b[0m\n\u001b[0;32m----> 1\u001b[0m \u001b[38;5;28;01massert\u001b[39;00m(\u001b[38;5;241m2\u001b[39m\u001b[38;5;241m==\u001b[39m\u001b[38;5;241m1\u001b[39m)\n",
      "\u001b[0;31mAssertionError\u001b[0m: "
     ]
    }
   ],
   "source": [
    "assert(2==1)"
   ]
  },
  {
   "cell_type": "code",
   "execution_count": 150,
   "id": "0168bd8d",
   "metadata": {},
   "outputs": [
    {
     "name": "stdout",
     "output_type": "stream",
     "text": [
      "[[ 4  8 12]\n",
      " [ 5 10 15]\n",
      " [ 6 12 18]]\n"
     ]
    }
   ],
   "source": [
    "import numpy as np\n",
    "\n",
    "a = np.array([[1,2,3]])\n",
    "b = np.array([[4],\n",
    "              [5],\n",
    "              [6]])\n",
    "c = 10\n",
    "print(b.dot(a))"
   ]
  },
  {
   "cell_type": "code",
   "execution_count": 123,
   "id": "abb3cacd",
   "metadata": {},
   "outputs": [
    {
     "name": "stdout",
     "output_type": "stream",
     "text": [
      "[[7.70701954 3.82001083]\n",
      " [2.41216406 2.20468505]]\n",
      "[[0. 0.]\n",
      " [0. 0.]]\n"
     ]
    }
   ],
   "source": [
    "a = np.random.rand(2,2)\n",
    "b = np.zeros((2,2))\n",
    "print(a.dot(10))\n",
    "print(b)"
   ]
  },
  {
   "cell_type": "code",
   "execution_count": 135,
   "id": "87722484",
   "metadata": {},
   "outputs": [
    {
     "name": "stdout",
     "output_type": "stream",
     "text": [
      "something\n"
     ]
    }
   ],
   "source": [
    "a = \"Cute dog\"\n",
    "if (\"dog\" in a.split(' ')):\n",
    "    print(\"something\")"
   ]
  },
  {
   "cell_type": "code",
   "execution_count": 147,
   "id": "f0dc5c27",
   "metadata": {},
   "outputs": [
    {
     "name": "stdout",
     "output_type": "stream",
     "text": [
      "[[0. 0. 0. 0. 0. 0. 0. 0. 0. 0.]]\n",
      "10\n",
      "[1 2 3 4]\n",
      "4\n"
     ]
    },
    {
     "ename": "IndexError",
     "evalue": "index 8 is out of bounds for axis 0 with size 1",
     "output_type": "error",
     "traceback": [
      "\u001b[0;31m---------------------------------------------------------------------------\u001b[0m",
      "\u001b[0;31mIndexError\u001b[0m                                Traceback (most recent call last)",
      "Input \u001b[0;32mIn [147]\u001b[0m, in \u001b[0;36m<cell line: 8>\u001b[0;34m()\u001b[0m\n\u001b[1;32m      5\u001b[0m \u001b[38;5;28mprint\u001b[39m(a)\n\u001b[1;32m      6\u001b[0m \u001b[38;5;28mprint\u001b[39m(a\u001b[38;5;241m.\u001b[39msize)\n\u001b[0;32m----> 8\u001b[0m zeros[\u001b[38;5;241m8\u001b[39m] \u001b[38;5;241m+\u001b[39m\u001b[38;5;241m=\u001b[39m \u001b[38;5;241m1\u001b[39m\n",
      "\u001b[0;31mIndexError\u001b[0m: index 8 is out of bounds for axis 0 with size 1"
     ]
    }
   ],
   "source": [
    "zeros = np.zeros((1,10))\n",
    "print(zeros)\n",
    "print(zeros.size)\n",
    "a = np.array([1,2,3,4])\n",
    "print(a)\n",
    "print(a.size)\n",
    "\n",
    "zeros[8] += 1"
   ]
  }
 ],
 "metadata": {
  "kernelspec": {
   "display_name": "Python 3 (ipykernel)",
   "language": "python",
   "name": "python3"
  },
  "language_info": {
   "codemirror_mode": {
    "name": "ipython",
    "version": 3
   },
   "file_extension": ".py",
   "mimetype": "text/x-python",
   "name": "python",
   "nbconvert_exporter": "python",
   "pygments_lexer": "ipython3",
   "version": "3.9.12"
  }
 },
 "nbformat": 4,
 "nbformat_minor": 5
}
